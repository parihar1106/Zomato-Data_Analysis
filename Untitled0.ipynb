{
  "nbformat": 4,
  "nbformat_minor": 0,
  "metadata": {
    "colab": {
      "provenance": [],
      "authorship_tag": "ABX9TyNKG3VpZ4Pa6u9t3IluRfoI",
      "include_colab_link": true
    },
    "kernelspec": {
      "name": "python3",
      "display_name": "Python 3"
    },
    "language_info": {
      "name": "python"
    }
  },
  "cells": [
    {
      "cell_type": "markdown",
      "metadata": {
        "id": "view-in-github",
        "colab_type": "text"
      },
      "source": [
        "<a href=\"https://colab.research.google.com/github/parihar1106/Pathfinder-Visualizer/blob/master/Untitled0.ipynb\" target=\"_parent\"><img src=\"https://colab.research.google.com/assets/colab-badge.svg\" alt=\"Open In Colab\"/></a>"
      ]
    },
    {
      "cell_type": "code",
      "execution_count": null,
      "metadata": {
        "colab": {
          "base_uri": "https://localhost:8080/"
        },
        "id": "R1kFAUPWev-P",
        "outputId": "a57013e3-e7ba-436b-d0cd-8842423d9c7f"
      },
      "outputs": [
        {
          "output_type": "stream",
          "name": "stdout",
          "text": [
            "Collecting fake-useragent\n",
            "  Downloading fake_useragent-1.2.1-py3-none-any.whl (14 kB)\n",
            "Installing collected packages: fake-useragent\n",
            "Successfully installed fake-useragent-1.2.1\n"
          ]
        }
      ],
      "source": [
        "!pip install fake-useragent"
      ]
    },
    {
      "cell_type": "code",
      "source": [
        "import requests\n",
        "import datetime\n",
        "import json\n",
        "import pandas as pd"
      ],
      "metadata": {
        "id": "S2835s3pez72"
      },
      "execution_count": null,
      "outputs": []
    },
    {
      "cell_type": "code",
      "source": [
        "from fake_useragent import UserAgent"
      ],
      "metadata": {
        "id": "PF2VjR_Ze25f"
      },
      "execution_count": null,
      "outputs": []
    },
    {
      "cell_type": "code",
      "source": [
        "temp_user_agent = UserAgent()\n",
        "browser_header = {'User-Agent': temp_user_agent.random}"
      ],
      "metadata": {
        "id": "1TYXNpnbfEiV"
      },
      "execution_count": null,
      "outputs": []
    },
    {
      "cell_type": "code",
      "source": [
        "POST_CODE = \"823001\"\n",
        "age = 50\n",
        "\n",
        "# Print details flag\n",
        "print_flag = 'Y'\n",
        "\n",
        "numdays = 20"
      ],
      "metadata": {
        "id": "fkqUrCcTfH_e"
      },
      "execution_count": null,
      "outputs": []
    },
    {
      "cell_type": "code",
      "source": [
        "base = datetime.datetime.today()\n",
        "date_list = [base + datetime.timedelta(days=x) for x in range(numdays)]\n",
        "date_str = [x.strftime(\"%d-%m-%Y\") for x in date_list]"
      ],
      "metadata": {
        "id": "-OAJETmxfMlk"
      },
      "execution_count": null,
      "outputs": []
    },
    {
      "cell_type": "code",
      "source": [
        "for INP_DATE in date_str:\n",
        "    URL = \"https://cdn-api.co-vin.in/api/v2/appointment/sessions/public/calendarByPin?pincode={}&date={}\".format(POST_CODE, INP_DATE)\n",
        "    response = requests.get(URL, headers=browser_header)\n",
        "    if response.ok:\n",
        "        resp_json = response.json()\n",
        "        # print(json.dumps(resp_json, indent = 1))\n",
        "        flag = False\n",
        "        if resp_json[\"centers\"]:\n",
        "            print(\"Available on: {}\".format(INP_DATE))\n",
        "            if(print_flag=='y' or print_flag=='Y'):\n",
        "                for center in resp_json[\"centers\"]:\n",
        "                    for session in center[\"sessions\"]:\n",
        "                        if session[\"min_age_limit\"] <= age:\n",
        "                            print(\"\\t\", center[\"name\"])\n",
        "                            print(\"\\t\", center[\"block_name\"])\n",
        "                            print(\"\\t Price: \", center[\"fee_type\"])\n",
        "                            print(\"\\t Available Capacity: \", session[\"available_capacity\"])\n",
        "                            if(session[\"vaccine\"] != ''):\n",
        "                                print(\"\\t Vaccine: \", session[\"vaccine\"])\n",
        "                            print(\"\\n\\n\")\n",
        "\n",
        "\n",
        "\n",
        "        else:\n",
        "            print(\"No available slots on {}\".format(INP_DATE))"
      ],
      "metadata": {
        "colab": {
          "base_uri": "https://localhost:8080/"
        },
        "id": "a2PwYCZLfQfE",
        "outputId": "0d6fb19f-91ee-407a-801b-2207e981d09d"
      },
      "execution_count": null,
      "outputs": [
        {
          "output_type": "stream",
          "name": "stdout",
          "text": [
            "No available slots on 24-08-2023\n",
            "No available slots on 25-08-2023\n",
            "No available slots on 26-08-2023\n",
            "No available slots on 27-08-2023\n",
            "No available slots on 28-08-2023\n",
            "No available slots on 29-08-2023\n",
            "No available slots on 30-08-2023\n",
            "No available slots on 31-08-2023\n",
            "No available slots on 01-09-2023\n",
            "No available slots on 02-09-2023\n",
            "No available slots on 03-09-2023\n",
            "No available slots on 04-09-2023\n",
            "No available slots on 05-09-2023\n",
            "No available slots on 06-09-2023\n",
            "No available slots on 07-09-2023\n",
            "No available slots on 08-09-2023\n",
            "No available slots on 09-09-2023\n",
            "No available slots on 10-09-2023\n",
            "No available slots on 11-09-2023\n",
            "No available slots on 12-09-2023\n"
          ]
        }
      ]
    },
    {
      "cell_type": "code",
      "source": [],
      "metadata": {
        "id": "ytyFAXDVfc0T"
      },
      "execution_count": null,
      "outputs": []
    }
  ]
}